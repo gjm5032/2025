{
  "nbformat": 4,
  "nbformat_minor": 0,
  "metadata": {
    "colab": {
      "provenance": [],
      "authorship_tag": "ABX9TyN/TB5sYOigrVf2XfyfqpBV",
      "include_colab_link": true
    },
    "kernelspec": {
      "name": "python3",
      "display_name": "Python 3"
    },
    "language_info": {
      "name": "python"
    }
  },
  "cells": [
    {
      "cell_type": "markdown",
      "metadata": {
        "id": "view-in-github",
        "colab_type": "text"
      },
      "source": [
        "<a href=\"https://colab.research.google.com/github/gjm5032/2025/blob/main/Day1.ipynb\" target=\"_parent\"><img src=\"https://colab.research.google.com/assets/colab-badge.svg\" alt=\"Open In Colab\"/></a>"
      ]
    },
    {
      "cell_type": "code",
      "execution_count": null,
      "metadata": {
        "id": "Pt5WlELJ_gFO"
      },
      "outputs": [],
      "source": []
    },
    {
      "cell_type": "code",
      "source": [
        "from google.colab import drive\n",
        "drive.mount('/content/drive')"
      ],
      "metadata": {
        "colab": {
          "base_uri": "https://localhost:8080/"
        },
        "id": "cqxCxQr5_nya",
        "outputId": "687d06c2-5146-45a5-b41c-d50670e3e8fe"
      },
      "execution_count": 1,
      "outputs": [
        {
          "output_type": "stream",
          "name": "stdout",
          "text": [
            "Mounted at /content/drive\n"
          ]
        }
      ]
    },
    {
      "cell_type": "markdown",
      "source": [
        "조건문\n"
      ],
      "metadata": {
        "id": "XLHgTh3EDN71"
      }
    },
    {
      "cell_type": "code",
      "source": [
        "num = int(input(\"숫자를 입력하세요: \"))\n",
        "if num % 2 ==0:\n",
        "  print(\"짝수입니다.\")\n",
        "else:\n",
        "  print(\"홀수입니다.\")\n"
      ],
      "metadata": {
        "id": "ZNxL87mg_vS_"
      },
      "execution_count": null,
      "outputs": []
    },
    {
      "cell_type": "markdown",
      "source": [
        "반복문"
      ],
      "metadata": {
        "id": "TFsSEJJ_Dr1P"
      }
    },
    {
      "cell_type": "code",
      "source": [
        "for i in range(1,10):\n",
        "  print(f\"2 x {i} = {2 * i}\")"
      ],
      "metadata": {
        "colab": {
          "base_uri": "https://localhost:8080/"
        },
        "id": "0UUxRpZyDame",
        "outputId": "95258849-484c-4e60-f4dc-77019f3d2b76"
      },
      "execution_count": 3,
      "outputs": [
        {
          "output_type": "stream",
          "name": "stdout",
          "text": [
            "2 x 1 = 2\n",
            "2 x 2 = 4\n",
            "2 x 3 = 6\n",
            "2 x 4 = 8\n",
            "2 x 5 = 10\n",
            "2 x 6 = 12\n",
            "2 x 7 = 14\n",
            "2 x 8 = 16\n",
            "2 x 9 = 18\n"
          ]
        }
      ]
    },
    {
      "cell_type": "markdown",
      "source": [
        "리스트 + 반복"
      ],
      "metadata": {
        "id": "8zzvlDycD3zI"
      }
    },
    {
      "cell_type": "code",
      "source": [
        "scores = [85, 90, 78, 92, 88]\n",
        "total = 0\n",
        "for score in scores:\n",
        "    total += score\n",
        "\n",
        "average = total / len(scores)\n",
        "print(\"평균 점수:\", average)"
      ],
      "metadata": {
        "colab": {
          "base_uri": "https://localhost:8080/"
        },
        "id": "TsNZ6-gdDo5U",
        "outputId": "bf0ea92b-6074-4563-e236-cbc523c2a41e"
      },
      "execution_count": 5,
      "outputs": [
        {
          "output_type": "stream",
          "name": "stdout",
          "text": [
            "평균 점수: 86.6\n"
          ]
        }
      ]
    },
    {
      "cell_type": "markdown",
      "source": [
        "함수"
      ],
      "metadata": {
        "id": "OlLnUSzhEJD_"
      }
    },
    {
      "cell_type": "code",
      "source": [
        "def max_of_three(a,b,c):\n",
        "  if a>= b and a>= c:\n",
        "    return a\n",
        "  elif b >=c:\n",
        "    return b\n",
        "  else:\n",
        "    return c\n",
        "\n",
        "print(max_of_three(10,25,7))"
      ],
      "metadata": {
        "colab": {
          "base_uri": "https://localhost:8080/"
        },
        "id": "zZfblaunEIFv",
        "outputId": "ae0cf08a-e4b0-4b63-f11d-1e7336195733"
      },
      "execution_count": 6,
      "outputs": [
        {
          "output_type": "stream",
          "name": "stdout",
          "text": [
            "25\n"
          ]
        }
      ]
    },
    {
      "cell_type": "markdown",
      "source": [
        "조건 + 반복"
      ],
      "metadata": {
        "id": "m6HNeJmfEdKe"
      }
    },
    {
      "cell_type": "code",
      "source": [
        "for i in range(1,101):\n",
        "  if i % 2 ==0:\n",
        "    print(i, end=' ')"
      ],
      "metadata": {
        "colab": {
          "base_uri": "https://localhost:8080/"
        },
        "id": "8UjgghoUEZ_l",
        "outputId": "1294ee03-b833-49c1-d2fe-7a96613d2d76"
      },
      "execution_count": 7,
      "outputs": [
        {
          "output_type": "stream",
          "name": "stdout",
          "text": [
            "2 4 6 8 10 12 14 16 18 20 22 24 26 28 30 32 34 36 38 40 42 44 46 48 50 52 54 56 58 60 62 64 66 68 70 72 74 76 78 80 82 84 86 88 90 92 94 96 98 100 "
          ]
        }
      ]
    },
    {
      "cell_type": "markdown",
      "source": [
        "1000까지 소수의 값 구하기"
      ],
      "metadata": {
        "id": "TF-wqpBxEnuY"
      }
    },
    {
      "cell_type": "code",
      "source": [
        "#처음 짠 코드\n",
        "for i in range(2,1000):\n",
        "  for j in range(2,i):\n",
        "    if i % j == 0: #나누어 떨어지면 소수 아님\n",
        "      break\n",
        "  else: # 이 else는 for j in range(2, i): 와 연결되어 있음 , break 없이 루프가 정상 종료되면 소수 else: 실행\n",
        "      print(i)"
      ],
      "metadata": {
        "colab": {
          "base_uri": "https://localhost:8080/"
        },
        "collapsed": true,
        "id": "1QZfhp49EnNT",
        "outputId": "698257be-fae3-46b6-d25c-0dfc5542e730"
      },
      "execution_count": 6,
      "outputs": [
        {
          "output_type": "stream",
          "name": "stdout",
          "text": [
            "2\n",
            "3\n",
            "5\n",
            "7\n",
            "11\n",
            "13\n",
            "17\n",
            "19\n",
            "23\n",
            "29\n",
            "31\n",
            "37\n",
            "41\n",
            "43\n",
            "47\n",
            "53\n",
            "59\n",
            "61\n",
            "67\n",
            "71\n",
            "73\n",
            "79\n",
            "83\n",
            "89\n",
            "97\n"
          ]
        }
      ]
    },
    {
      "cell_type": "code",
      "source": [
        "#for문을 while 문으로 바꾸기 while - else 방식\n",
        "\n",
        "i = 2\n",
        "while i < 100:\n",
        "  j = 2\n",
        "  while j < i:\n",
        "    if i % j == 0:\n",
        "      break\n",
        "    j+=1\n",
        "  else :\n",
        "    print(i)\n",
        "  i += 1"
      ],
      "metadata": {
        "colab": {
          "base_uri": "https://localhost:8080/"
        },
        "collapsed": true,
        "id": "PUEV4QAoEj99",
        "outputId": "2e8a39e3-55bf-4e1a-9a25-b6a2652e3dec"
      },
      "execution_count": 3,
      "outputs": [
        {
          "output_type": "stream",
          "name": "stdout",
          "text": [
            "2\n",
            "3\n",
            "5\n",
            "7\n",
            "11\n",
            "13\n",
            "17\n",
            "19\n",
            "23\n",
            "29\n",
            "31\n",
            "37\n",
            "41\n",
            "43\n",
            "47\n",
            "53\n",
            "59\n",
            "61\n",
            "67\n",
            "71\n",
            "73\n",
            "79\n",
            "83\n",
            "89\n",
            "97\n"
          ]
        }
      ]
    },
    {
      "cell_type": "code",
      "source": [
        "#for문을 while 문으로 바꾸기 flag 방식\n",
        "i = 2\n",
        "while i < 100:\n",
        "  j = 2\n",
        "  prime = True\n",
        "  while j < i:\n",
        "    if i%j==0:\n",
        "      prime = False\n",
        "      break\n",
        "    j += 1\n",
        "\n",
        "  if prime:\n",
        "    print(i)\n",
        "  i += 1"
      ],
      "metadata": {
        "colab": {
          "base_uri": "https://localhost:8080/"
        },
        "id": "tsJwqXv8NRHq",
        "outputId": "0e673262-0042-4a46-af72-8d2a8b70ee51"
      },
      "execution_count": 2,
      "outputs": [
        {
          "output_type": "stream",
          "name": "stdout",
          "text": [
            "2\n",
            "3\n",
            "5\n",
            "7\n",
            "11\n",
            "13\n",
            "17\n",
            "19\n",
            "23\n",
            "29\n",
            "31\n",
            "37\n",
            "41\n",
            "43\n",
            "47\n",
            "53\n",
            "59\n",
            "61\n",
            "67\n",
            "71\n",
            "73\n",
            "79\n",
            "83\n",
            "89\n",
            "97\n"
          ]
        }
      ]
    },
    {
      "cell_type": "code",
      "source": [],
      "metadata": {
        "id": "m1sC4q0vPM40"
      },
      "execution_count": null,
      "outputs": []
    }
  ]
}
